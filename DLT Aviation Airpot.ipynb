{
 "cells": [
  {
   "cell_type": "code",
   "execution_count": 0,
   "metadata": {
    "application/vnd.databricks.v1+cell": {
     "cellMetadata": {
      "byteLimit": 2048000,
      "rowLimit": 10000
     },
     "inputWidgets": {},
     "nuid": "ea48a828-c82c-43a9-8527-d02cbb57b415",
     "showTitle": false,
     "tableResultSettingsMap": {},
     "title": ""
    }
   },
   "outputs": [],
   "source": [
    "CREATE OR REFRESH STREAMING LIVE TABLE josephgabbrielle62095_arriving_flight_bronze\n",
    "COMMENT \"Ingest arrival csv data\"\n",
    "TBLPROPERTIES (\"quality\" = \"bronze\")\n",
    "AS SELECT \n",
    " *\n",
    "FROM (\n",
    "  SELECT * FROM cloud_files(\n",
    "    \"/Volumes/tabular/dataexpert/josephgabbrielle62095/capstone_flight/arriving_flight_csv/\", \n",
    "    \"csv\", \n",
    "    map(\"header\", \"true\", \"inferSchema\", \"true\")\n",
    "  )\n",
    ")"
   ]
  },
  {
   "cell_type": "code",
   "execution_count": 0,
   "metadata": {
    "application/vnd.databricks.v1+cell": {
     "cellMetadata": {
      "byteLimit": 2048000,
      "rowLimit": 10000
     },
     "inputWidgets": {},
     "nuid": "a770c55a-2ae6-4198-bd47-dc8d667d7c36",
     "showTitle": false,
     "tableResultSettingsMap": {},
     "title": ""
    }
   },
   "outputs": [],
   "source": [
    "CREATE OR REFRESH STREAMING LIVE TABLE josephgabbrielle62095_departing_flight_bronze\n",
    "COMMENT \"Ingest DFW departing data\"\n",
    "TBLPROPERTIES (\"quality\" = \"bronze\")\n",
    "AS SELECT \n",
    " *\n",
    "FROM (\n",
    "  SELECT * FROM cloud_files(\n",
    "    \"/Volumes/tabular/dataexpert/josephgabbrielle62095/capstone_flight/departing_flight_csv/\", \n",
    "    \"csv\", \n",
    "    map(\"header\", \"true\", \"inferSchema\", \"true\")\n",
    "  )\n",
    ")"
   ]
  }
 ],
 "metadata": {
  "application/vnd.databricks.v1+notebook": {
   "computePreferences": null,
   "dashboards": [],
   "environmentMetadata": {
    "base_environment": "",
    "environment_version": "2"
   },
   "language": "sql",
   "notebookMetadata": {
    "pythonIndentUnit": 4
   },
   "notebookName": "DLT Aviation Airpot",
   "widgets": {}
  },
  "language_info": {
   "name": "sql"
  }
 },
 "nbformat": 4,
 "nbformat_minor": 0
}
