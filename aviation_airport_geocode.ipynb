{
 "cells": [
  {
   "cell_type": "markdown",
   "metadata": {
    "application/vnd.databricks.v1+cell": {
     "cellMetadata": {},
     "inputWidgets": {},
     "nuid": "8df6cd7b-502a-4290-906c-b7da21407f9e",
     "showTitle": false,
     "tableResultSettingsMap": {},
     "title": ""
    }
   },
   "source": [
    "# CREATE AIRPORT LOCATION DATA\n",
    "\n",
    "This Python script fetches airport data and creates a table containing airport location details using PySpark.\n",
    "\n",
    "**Fetch Data** → The script reads in a file with airport information.\n",
    "\n",
    "**Extract Relevant Fields** → The script extracts key details like IATA code, ICAO code, airport name, country, latitude, and longitude.\n",
    "\n",
    "**Convert to PySpark DataFrame** → The extracted data is transformed into a structured PySpark DataFrame.\n",
    "\n",
    "**Save as a Table** → The final DataFrame is written to a table in Databricks, making it easy to query and analyze airport locations.\n",
    "\n",
    "This process automates airport data collection, ensuring up-to-date location information is stored in a structured format for further analysis. 🚀✈️"
   ]
  },
  {
   "cell_type": "code",
   "execution_count": 0,
   "metadata": {
    "application/vnd.databricks.v1+cell": {
     "cellMetadata": {
      "byteLimit": 2048000,
      "rowLimit": 10000
     },
     "inputWidgets": {},
     "nuid": "70037199-aa1f-4cf6-bb9d-814f74d8119d",
     "showTitle": false,
     "tableResultSettingsMap": {},
     "title": ""
    }
   },
   "outputs": [],
   "source": [
    "# NECESSARY LIBRARIES\n",
    "import requests\n",
    "import pandas as pd\n",
    "from pyspark.sql.functions import *\n",
    "from pyspark.sql.types import *"
   ]
  },
  {
   "cell_type": "markdown",
   "metadata": {
    "application/vnd.databricks.v1+cell": {
     "cellMetadata": {},
     "inputWidgets": {},
     "nuid": "a790f6aa-05d8-4de8-9f06-0a8d7e3a5fd1",
     "showTitle": false,
     "tableResultSettingsMap": {},
     "title": ""
    }
   },
   "source": [
    "### LET'S CREATE BRONZE TABLES\n",
    "THIS SECTION OF CODE READS IN THE FILE. IT CREATES THE RAW DATA TABLE."
   ]
  },
  {
   "cell_type": "code",
   "execution_count": 0,
   "metadata": {
    "application/vnd.databricks.v1+cell": {
     "cellMetadata": {
      "byteLimit": 2048000,
      "rowLimit": 10000
     },
     "inputWidgets": {},
     "nuid": "3d5a888e-bef3-4731-aea6-691ed613abb4",
     "showTitle": false,
     "tableResultSettingsMap": {},
     "title": ""
    }
   },
   "outputs": [],
   "source": [
    "# READ IN FILE\n",
    "df = spark.read.option(\"delimiter\", \":\").csv(\"/Volumes/tabular/dataexpert/josephgabbrielle62095/capstone_flight/GlobalAirportDatabase.txt\")\n",
    "\n",
    "# RENAME COLUMNS\n",
    "new_columns = [\"icao\", \"iata\", \"airport\", \"city\", \"country\", \"latitude_degrees\", \"latitude_minutes\", \"latitude_seconds\", \"latitude_direction\", \"longitude_degrees\", \"longitude_minutes\", \"longitude_seconds\", \"longitude_direction\", \"altitude\", \"latitude_decimal_degrees\", \"longitude_decimal_degrees\"]\n",
    "df = df.toDF(*new_columns)\n",
    "\n",
    "# LOOK AT THE DATA\n",
    "display(df)"
   ]
  },
  {
   "cell_type": "code",
   "execution_count": 0,
   "metadata": {
    "application/vnd.databricks.v1+cell": {
     "cellMetadata": {
      "byteLimit": 2048000,
      "rowLimit": 10000
     },
     "inputWidgets": {},
     "nuid": "4ee38188-536d-4713-b3a5-472d763e49e9",
     "showTitle": false,
     "tableResultSettingsMap": {},
     "title": ""
    }
   },
   "outputs": [],
   "source": [
    "# WRITE THE DATA TO A BRONZE TABLE\n",
    "df.write.mode(\"overwrite\").saveAsTable(\"tabular.dataexpert.josephgabbrielle62095_airport_geocode_bronze\")"
   ]
  },
  {
   "cell_type": "markdown",
   "metadata": {
    "application/vnd.databricks.v1+cell": {
     "cellMetadata": {},
     "inputWidgets": {},
     "nuid": "07ce8bca-fc2d-4c47-8467-573c4bdd01c1",
     "showTitle": false,
     "tableResultSettingsMap": {},
     "title": ""
    }
   },
   "source": [
    "### LET'S CREATE THE SILVER TABLES\n",
    "THIS SECTION OF CODE TAKES THE RAW TABLE AND CLEANS IT TO PUT IN A USEABLE FORMAT."
   ]
  },
  {
   "cell_type": "code",
   "execution_count": 0,
   "metadata": {
    "application/vnd.databricks.v1+cell": {
     "cellMetadata": {
      "byteLimit": 2048000,
      "rowLimit": 10000
     },
     "inputWidgets": {},
     "nuid": "8c3a1bd6-2dc2-4335-a54d-094b6b9204df",
     "showTitle": false,
     "tableResultSettingsMap": {},
     "title": ""
    }
   },
   "outputs": [],
   "source": [
    "airport_bronze = spark.sql(\"SELECT * FROM tabular.dataexpert.josephgabbrielle62095_airport_geocode_bronze\")"
   ]
  },
  {
   "cell_type": "code",
   "execution_count": 0,
   "metadata": {
    "application/vnd.databricks.v1+cell": {
     "cellMetadata": {
      "byteLimit": 2048000,
      "rowLimit": 10000
     },
     "inputWidgets": {},
     "nuid": "dbc9bfd1-727f-478c-8ecb-b288c60407d6",
     "showTitle": false,
     "tableResultSettingsMap": {
      "0": {
       "filterBlob": "{\"filterGroups\":[],\"syncTimestamp\":1740760583157}",
       "tableResultIndex": 0
      }
     },
     "title": ""
    }
   },
   "outputs": [],
   "source": [
    "# SELECT CERTAIN COLUMNS\n",
    "airport_bronze = airport_bronze.select(\n",
    "    \"icao\",\n",
    "    \"iata\",\n",
    "    \"airport\",\n",
    "    \"city\",\n",
    "    \"country\",\n",
    "    \"latitude_decimal_degrees\",\n",
    "    \"longitude_decimal_degrees\"\n",
    "    )\n",
    "\n",
    "# CHANGE LATITUDE AND LONGITUDE TO DOUBLE TYPE\n",
    "airport_bronze = airport_bronze.withColumn(\"latitude_decimal_degrees\", col(\"latitude_decimal_degrees\").cast(DoubleType())).withColumn(\"longitude_decimal_degrees\", col(\"longitude_decimal_degrees\").cast(DoubleType()))\n",
    "\n",
    "# CORRECT ENGLAND MISSPELLING\n",
    "airport_bronze = airport_bronze.withColumn(\"country\", when(col(\"country\") == \"ENGALND\", \"ENGLAND\").otherwise(airport_bronze.country))\n",
    "\n",
    "display(airport_bronze)\n",
    "\n",
    "# WRITE TO SILVER TABLE\n",
    "airport_bronze.write.mode(\"overwrite\").saveAsTable(\"tabular.dataexpert.josephgabbrielle62095_airport_geocode_silver\")"
   ]
  },
  {
   "cell_type": "markdown",
   "metadata": {
    "application/vnd.databricks.v1+cell": {
     "cellMetadata": {},
     "inputWidgets": {},
     "nuid": "2c1ee66c-0f9d-4268-8293-79a66092c802",
     "showTitle": false,
     "tableResultSettingsMap": {},
     "title": ""
    }
   },
   "source": [
    "## CHECK SILVER TABLE\n",
    "THIS CHECKS THE SILVER TABLE BEFORE PUSHING IT TO THE GOLD LEVEL TABLE BY PERFORMING UNIT TESTS. THIS ENSURES BAD DATA WILL BE KEPT OUT OF PRODUCTION AND ANY DATA VISUALIZATIONS."
   ]
  },
  {
   "cell_type": "code",
   "execution_count": 0,
   "metadata": {
    "application/vnd.databricks.v1+cell": {
     "cellMetadata": {
      "byteLimit": 2048000,
      "rowLimit": 10000
     },
     "inputWidgets": {},
     "nuid": "19d341f6-00dd-429c-81b2-eec9a396c17b",
     "showTitle": false,
     "tableResultSettingsMap": {},
     "title": ""
    }
   },
   "outputs": [],
   "source": [
    "airport_silver = spark.sql(\"SELECT * FROM tabular.dataexpert.josephgabbrielle62095_airport_geocode_silver\")\n",
    "\n",
    "# CHECK THAT EVERY COLUMN IS THERE\n",
    "airport_columns = [\"icao\", \"iata\", \"airport\", \"city\", \"country\", \"latitude_decimal_degrees\", \"longitude_decimal_degrees\"]\n",
    "\n",
    "for i in airport_columns:\n",
    "    if i in airport_silver.columns:\n",
    "        print(f\"Column '{i}' exists in DataFrame\")\n",
    "    else:\n",
    "        raise ValueError(f\"Missing column: {i}\")\n",
    "\n",
    "# CHECK THE DATA ISN'T EMPTY\n",
    "if airport_silver.count() > 1:\n",
    "    print(\"Data found\")\n",
    "else:\n",
    "    raise ValueError(\"There is no data!\")\n",
    "\n",
    "# CHECK FOR NULL DATA\n",
    "columns_to_check = [\"icao\", \"airport\", \"city\", \"country\", \"latitude_decimal_degrees\", \"longitude_decimal_degrees\" ]\n",
    "\n",
    "# LOOP THROUGH THE COLUMNS TO SEE WHICH ONE HAS NULL DATA\n",
    "for col_name in columns_to_check:\n",
    "    if airport_silver.filter(col(col_name).isNull()).limit(1).count() > 0:\n",
    "        raise ValueError(f\"There is a null in the {col_name} column!\")\n",
    "\n",
    "print(\"No nulls found in the dataset\")\n",
    "\n",
    "display(airport_silver)"
   ]
  },
  {
   "cell_type": "markdown",
   "metadata": {
    "application/vnd.databricks.v1+cell": {
     "cellMetadata": {},
     "inputWidgets": {},
     "nuid": "35de5dbc-bb8f-4ac1-adb5-07f7d458f881",
     "showTitle": false,
     "tableResultSettingsMap": {},
     "title": ""
    }
   },
   "source": [
    "## PUSH TO GOLD TABLE\n",
    "THIS CREATES THE GOLD TABLE. WITH THE UNIT TESTS ABOVE, THE GOLD TABLE SHOULD ONLY INCLUDE READY TO USE DATA."
   ]
  },
  {
   "cell_type": "code",
   "execution_count": 0,
   "metadata": {
    "application/vnd.databricks.v1+cell": {
     "cellMetadata": {
      "byteLimit": 2048000,
      "rowLimit": 10000
     },
     "inputWidgets": {},
     "nuid": "52c36912-66a3-43b3-b98c-b06b1aca26f4",
     "showTitle": false,
     "tableResultSettingsMap": {},
     "title": ""
    }
   },
   "outputs": [],
   "source": [
    "# CHECK THE SILVER TABLE BEFORE PUSHING TO GOLD TABLE\n",
    "airport_silver.write.mode(\"overwrite\").saveAsTable(\"tabular.dataexpert.josephgabbrielle62095_airport_geocode_gold\")"
   ]
  }
 ],
 "metadata": {
  "application/vnd.databricks.v1+notebook": {
   "computePreferences": null,
   "dashboards": [],
   "environmentMetadata": {
    "base_environment": "",
    "environment_version": "2"
   },
   "language": "python",
   "notebookMetadata": {
    "mostRecentlyExecutedCommandWithImplicitDF": {
     "commandId": 6368848666126464,
     "dataframes": [
      "_sqldf"
     ]
    },
    "pythonIndentUnit": 4
   },
   "notebookName": "aviation_airport_geocode",
   "widgets": {}
  },
  "language_info": {
   "name": "python"
  }
 },
 "nbformat": 4,
 "nbformat_minor": 0
}
