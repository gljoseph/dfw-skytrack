{
 "cells": [
  {
   "cell_type": "markdown",
   "metadata": {
    "application/vnd.databricks.v1+cell": {
     "cellMetadata": {
      "byteLimit": 2048000,
      "rowLimit": 10000
     },
     "inputWidgets": {},
     "nuid": "4fdfc8a5-2e55-4cd2-b471-0560164c30c9",
     "showTitle": false,
     "tableResultSettingsMap": {},
     "title": ""
    }
   },
   "source": [
    "# Real-time DFW Flight Data Using AviationStack API\n",
    "This Python script retrieves real-time arrival and departure flight information for Dallas/Fort Worth International Airport (DFW) from the AviationStack API. The data is updated every minute and undergoes unit testing before being stored in the gold table.\n",
    "\n",
    "**Fetch Data** → The script sends a GET request to the AviationStack API, filtering for today’s DFW arrivals and departures.\n",
    "\n",
    "**Process & Structure** → The response is flattened into a structured PySpark DataFrame.\n",
    "\n",
    "**Perform Unit Tests** → Before pushing the data, unit tests check for missing values, data integrity, and consistency.\n",
    "\n",
    "**Store in Gold Table** → After validation, the clean data is written to the gold table, ensuring high-quality flight tracking information.\n",
    "\n",
    "This automated pipeline ensures accurate, real-time flight data, supporting operational efficiency at DFW. ✈️📊"
   ]
  },
  {
   "cell_type": "code",
   "execution_count": 0,
   "metadata": {
    "application/vnd.databricks.v1+cell": {
     "cellMetadata": {
      "byteLimit": 2048000,
      "rowLimit": 10000
     },
     "inputWidgets": {},
     "nuid": "132e3e38-884b-444d-b342-7173c5bb3705",
     "showTitle": false,
     "tableResultSettingsMap": {},
     "title": ""
    }
   },
   "outputs": [],
   "source": [
    "# IMPORT NECESSARY LIBRARIES\n",
    "import uuid\n",
    "import logging\n",
    "import requests\n",
    "import pandas as pd\n",
    "from pyspark.sql.functions import *\n",
    "from pyspark.sql.types import *"
   ]
  },
  {
   "cell_type": "markdown",
   "metadata": {
    "application/vnd.databricks.v1+cell": {
     "cellMetadata": {},
     "inputWidgets": {},
     "nuid": "f2758516-091d-47f8-a3fd-a87b05dd96f2",
     "showTitle": false,
     "tableResultSettingsMap": {},
     "title": ""
    }
   },
   "source": [
    "# DEPARTURE DATA\n",
    "## USE AVIATION STACK API TO GET DFW AIRPORT DEPARTURE DATA"
   ]
  },
  {
   "cell_type": "code",
   "execution_count": 0,
   "metadata": {
    "application/vnd.databricks.v1+cell": {
     "cellMetadata": {
      "byteLimit": 2048000,
      "rowLimit": 10000
     },
     "inputWidgets": {},
     "nuid": "ba9ed818-ed3d-4f7f-9c58-21541157a543",
     "showTitle": false,
     "tableResultSettingsMap": {},
     "title": ""
    }
   },
   "outputs": [],
   "source": [
    "# SET UP VARIABLES\n",
    "API_KEY = \"your_api_key_here\"\n",
    "BASE_URL = \"http://api.aviationstack.com/v1/flights\"\n",
    "\n",
    "# PULL IN GEOCODE DATA\n",
    "airport_geocode = spark.sql(\"SELECT * FROM tabular.dataexpert.josephgabbrielle62095_airport_geocode_gold\")"
   ]
  },
  {
   "cell_type": "markdown",
   "metadata": {
    "application/vnd.databricks.v1+cell": {
     "cellMetadata": {},
     "inputWidgets": {},
     "nuid": "247d7a43-ed75-4ea5-9fc6-ac059813c59b",
     "showTitle": false,
     "tableResultSettingsMap": {},
     "title": ""
    }
   },
   "source": [
    "## LET'S START WITH DEPARTURE DATA\n",
    "THIS FIRST PART OF THE CODE WILL GET DFW DEPARTURE FLIGHT DATA USING THE AVIATIONSTACK API."
   ]
  },
  {
   "cell_type": "code",
   "execution_count": 0,
   "metadata": {
    "application/vnd.databricks.v1+cell": {
     "cellMetadata": {
      "byteLimit": 2048000,
      "rowLimit": 10000
     },
     "inputWidgets": {},
     "nuid": "bd5a6d06-4112-45d8-933f-76dd8bc5e172",
     "showTitle": false,
     "tableResultSettingsMap": {},
     "title": ""
    }
   },
   "outputs": [],
   "source": [
    "# LIST OF AIRLINE IATA TO USE\n",
    "airline_iata_codes = [\"AA\", \"AC\", \"AF\", \"AM\", \"AS\", \"AZ\", \"B6\", \"BA\", \"DL\", \"EK\", \"F9\", \"IB\", \"KL\", \"LH\", \"LX\", \"NK\", \"QR\", \"SQ\", \"TK\", \"UA\", \"WS\"]  \n",
    "\n",
    "# DATA IS NESTED AND NEEDS TO BE FLATTENED\n",
    "def flatten_flight(flight):\n",
    "    \"\"\"\n",
    "    Flattens nested 'departure', 'arrival', 'airline', 'flight', 'aircraft', and 'live' dictionaries.\n",
    "    \"\"\"\n",
    "    flattened = {\n",
    "        \"flight_date\": flight.get(\"flight_date\", \"\"),  # KEEP FLIGHT_DATE AS IS\n",
    "        \"flight_status\": flight.get(\"flight_status\", \"\"),  # KEEP FLIGHT_STATUS AS IS\n",
    "    }\n",
    "\n",
    "    for key, value in flight.items():\n",
    "        if key in [\"departure\", \"arrival\", \"airline\", \"flight\", \"aircraft\", \"live\"] and isinstance(value, dict):\n",
    "            for inner_key, inner_val in value.items():\n",
    "                if inner_key == \"codeshared\" and isinstance(inner_val, dict):\n",
    "                    for cs_key, cs_val in inner_val.items():\n",
    "                        flattened[f\"flight_codeshared_{cs_key}\"] = str(cs_val) if cs_val is not None else \"\"\n",
    "                else:\n",
    "                    flattened[f\"{key}_{inner_key}\"] = str(inner_val) if inner_val is not None else \"\"\n",
    "\n",
    "        elif key not in [\"flight_date\", \"flight_status\"]:  \n",
    "            flattened[key] = str(value) if value is not None else \"\"\n",
    "\n",
    "    return flattened\n",
    "\n",
    "# LIST TO STORE FLIGHT DATA\n",
    "all_flights_data = []\n",
    "\n",
    "# LOOP OVER EACH AIRLINE USING THE GIVEN PARAMETERS\n",
    "for airline in airline_iata_codes:\n",
    "    params = {\n",
    "        \"access_key\": API_KEY,\n",
    "        \"dep_iata\": \"DFW\",  # SET DFW AS DEPARTURE AIRPORT\n",
    "        \"airline_iata\": airline,  # LOOPS THROUGH LIST OF AIRPORTS ABOVE\n",
    "    }\n",
    "\n",
    "    response = requests.get(BASE_URL, params=params)\n",
    "\n",
    "    if response.status_code == 200:\n",
    "        data = response.json().get(\"data\", [])\n",
    "        \n",
    "        if data:\n",
    "            flattened_data = [flatten_flight(flight) for flight in data]\n",
    "            all_flights_data.extend(flattened_data)\n",
    "        else:\n",
    "            print(f\"No flight data available for airline {airline}.\")\n",
    "    else:\n",
    "        print(f\"Error fetching data for airline {airline}: {response.status_code}, {response.text}\")\n",
    "\n",
    "# CONVERTS TO PYSPARK DATAFRAME\n",
    "if all_flights_data:\n",
    "    dep_flights_df = spark.createDataFrame(all_flights_data)\n",
    "    dep_flights_df = dep_flights_df.withColumn(\"uploaded_timestamp\", current_timestamp())\n",
    "\n",
    "    # WRITE DATA TO CSV FILE\n",
    "    dep_flights_df.write.csv(f\"/Volumes/tabular/dataexpert/josephgabbrielle62095/capstone_flight/departing_flight_csv/dep_data_{uuid.uuid4()}.csv\", header=True)\n",
    "\n",
    "    print(\"Data successfully written to csv.\")\n",
    "else:\n",
    "    print(\"No flight data available for the selected airlines.\")\n"
   ]
  },
  {
   "cell_type": "markdown",
   "metadata": {
    "application/vnd.databricks.v1+cell": {
     "cellMetadata": {},
     "inputWidgets": {},
     "nuid": "f3022249-9399-4aac-995b-046d52357d18",
     "showTitle": false,
     "tableResultSettingsMap": {},
     "title": ""
    }
   },
   "source": [
    "## LET'S CLEAN THE DEPARTURE BRONZE DATA\n",
    "TO GET THE DFW DEPARTURE DATA INTO A USEABLE FORMAT, THE DATA MUST BE IMPROVED BY CHANGING THE DATA TYPES AND THE COLUMN NAMES. THIS STEP WILL EXCLUDE ANY UNNEEDED DATA."
   ]
  },
  {
   "cell_type": "code",
   "execution_count": 0,
   "metadata": {
    "application/vnd.databricks.v1+cell": {
     "cellMetadata": {
      "byteLimit": 2048000,
      "rowLimit": 10000
     },
     "inputWidgets": {},
     "nuid": "07e74670-6579-4060-86d9-4f8279ab4f9c",
     "showTitle": false,
     "tableResultSettingsMap": {},
     "title": ""
    }
   },
   "outputs": [],
   "source": [
    "depart_bronze = spark.sql(\"SELECT * FROM tabular.dataexpert.josephgabbrielle62095_departing_flight_bronze\")"
   ]
  },
  {
   "cell_type": "code",
   "execution_count": 0,
   "metadata": {
    "application/vnd.databricks.v1+cell": {
     "cellMetadata": {
      "byteLimit": 2048000,
      "rowLimit": 10000
     },
     "inputWidgets": {},
     "nuid": "3469e264-2d79-4fef-b421-e2b51d3dc366",
     "showTitle": false,
     "tableResultSettingsMap": {},
     "title": ""
    }
   },
   "outputs": [],
   "source": [
    "display(depart_bronze)\n",
    "depart_bronze.printSchema()"
   ]
  },
  {
   "cell_type": "code",
   "execution_count": 0,
   "metadata": {
    "application/vnd.databricks.v1+cell": {
     "cellMetadata": {
      "byteLimit": 2048000,
      "rowLimit": 10000
     },
     "inputWidgets": {},
     "nuid": "d4f41893-f754-489b-807b-2df89ffe742e",
     "showTitle": false,
     "tableResultSettingsMap": {},
     "title": ""
    }
   },
   "outputs": [],
   "source": [
    "# DROP UNNEEDED COLUMNS\n",
    "depart_silver = depart_bronze.drop('departure', 'arrival', 'airline', 'flight', 'aircraft', 'live', '_rescued_data', 'flight_codeshared')\n",
    "\n",
    "# DEFINE COLUMN TYPES\n",
    "type_conversions = {\n",
    "    \"flight_date\": DateType(),\n",
    "    \"arrival_actual\": TimestampType(),\n",
    "    \"arrival_actual_runway\": TimestampType(),\n",
    "    \"arrival_delay\": IntegerType(),\n",
    "    \"arrival_estimated\": TimestampType(),\n",
    "    \"arrival_estimated_runway\": TimestampType(),\n",
    "    \"arrival_scheduled\": TimestampType(),\n",
    "    \"arrival_terminal\": IntegerType(),\n",
    "    \"departure_actual\": TimestampType(),\n",
    "    \"departure_actual_runway\": TimestampType(),\n",
    "    \"departure_delay\": IntegerType(),\n",
    "    \"departure_estimated\": TimestampType(),\n",
    "    \"departure_estimated_runway\": TimestampType(),\n",
    "    \"departure_scheduled\": TimestampType(),\n",
    "    \"uploaded_timestamp\": TimestampType()\n",
    "}\n",
    "\n",
    "# CAST COLUMNS AS NEW TYPES\n",
    "for col_name, new_type in type_conversions.items():\n",
    "    depart_silver = depart_silver.withColumn(col_name, col(col_name).cast(new_type))\n",
    "\n",
    "# SELECT CERTAIN COLUMNS\n",
    "depart_silver = depart_silver.select(\n",
    "    \"airline_iata\",\n",
    "    \"airline_name\",\n",
    "    \"arrival_iata\",\n",
    "    \"departure_actual\",\n",
    "    \"departure_delay\",\n",
    "    \"departure_estimated\",\n",
    "    \"departure_estimated_runway\",\n",
    "    \"departure_iata\",\n",
    "    \"departure_scheduled\",\n",
    "    \"flight_iata\",\n",
    "    \"flight_date\",\n",
    "    \"flight_status\",\n",
    "    \"uploaded_timestamp\"\n",
    "    )\n",
    "\n",
    "# JOIN WITH GEOCODED AIRPORT LOCATIONS\n",
    "depart_geocode = depart_silver \\\n",
    "                .join(broadcast(airport_geocode), depart_silver.arrival_iata == airport_geocode.iata, \"left\") \\\n",
    "                .select(\n",
    "                    depart_silver['*'], \n",
    "                    airport_geocode['city'].alias('arrival_city'),\n",
    "                    airport_geocode['country'].alias('arrival_country'),\n",
    "                    airport_geocode['latitude_decimal_degrees'].alias('arrival_latitude'),\n",
    "                    airport_geocode['longitude_decimal_degrees'].alias('arrival_longitude')\n",
    "                ) \n",
    "\n",
    "# UPPER CASE AIRLINE NAME\n",
    "depart_geocode = depart_geocode.withColumn(\"airline_name\", upper(col(\"airline_name\")))\n",
    "\n",
    "# CREATE FLAG FOR INTERNATIONAL ARRIVALS\n",
    "depart_geocode = depart_geocode.withColumn(\"arrival_international\", when(col(\"arrival_country\") == \"USA\", \"N\").otherwise(\"Y\"))\n",
    "\n",
    "# EDIT FLIGHT STATUS TO BE SPECIFIC\n",
    "depart_geocode = depart_geocode.withColumn(\n",
    "    \"flight_status\",\n",
    "    when(col(\"flight_status\") == \"landed\", \"LANDED\")\n",
    "    .when((col(\"flight_status\") == \"scheduled\") & (col(\"departure_delay\") > 0), \"DELAYED\")\n",
    "    .when((col(\"departure_delay\").isNotNull()) & (col(\"departure_delay\") > 0), \"ENROUTE DELAYED\")\n",
    "    .otherwise(upper(col(\"flight_status\")))\n",
    ")\n",
    "\n",
    "# DEFINE COLUMNS\n",
    "schema_columns = [\n",
    "    \"airline_iata\", \"airline_name\", \"arrival_city\", \"arrival_country\", \"arrival_iata\", \"arrival_international\" \"arrival_latitude\", \"arrival_longitude\", \"departure_actual\", \"departure_delay\", \"departure_estimated\", \"departure_estimated_runway\", \"departure_iata\", \"departure_scheduled\", \"flight_iata\", \"flight_date\", \"flight_status\", \"uploaded_timestamp\"\n",
    "]\n",
    "\n",
    "# SORT COLUMNS TO ALPHABETICAL ORDER\n",
    "sorted_columns = sorted(depart_geocode.columns)\n",
    "\n",
    "# REORDER DATAFRAME\n",
    "depart_geocode = depart_geocode.select(sorted_columns)\n",
    "\n",
    "display(depart_geocode)\n",
    "depart_geocode.printSchema()\n",
    "\n",
    "# CREATE SILVER TABLE\n",
    "depart_geocode.write.mode(\"overwrite\").saveAsTable(\"tabular.dataexpert.josephgabbrielle62095_departing_flight_silver\")"
   ]
  },
  {
   "cell_type": "markdown",
   "metadata": {
    "application/vnd.databricks.v1+cell": {
     "cellMetadata": {
      "byteLimit": 2048000,
      "rowLimit": 10000
     },
     "inputWidgets": {},
     "nuid": "e685f5a8-e1b2-4ccf-8489-6d88b6954921",
     "showTitle": false,
     "tableResultSettingsMap": {},
     "title": ""
    }
   },
   "source": [
    "## LET'S PERFORM THE UNIT TESTS\n",
    "BY PERFORMING UNIT TESTS, END USERS CAN BE SURE OF THE QUALITY OF THE DATA. THIS WILL AVOID PUTTING INCORRECT OR WRONG DATA INTO PRODUCTION. API OWNERS FREQUENTLY CHANGE THE DATA SCHEMA OR DATA TYPE. THIS WILL FIND ANY CHANGES THAT WILL AFFECT PRODUCTION DATA."
   ]
  },
  {
   "cell_type": "code",
   "execution_count": 0,
   "metadata": {
    "application/vnd.databricks.v1+cell": {
     "cellMetadata": {
      "byteLimit": 2048000,
      "rowLimit": 10000
     },
     "inputWidgets": {},
     "nuid": "fecebca4-1c5a-4e92-a420-0fa31f1d63a3",
     "showTitle": false,
     "tableResultSettingsMap": {},
     "title": ""
    }
   },
   "outputs": [],
   "source": [
    "# QUERY SILVER DEPARTURE DATA\n",
    "depart_silver = spark.sql(\"SELECT * FROM tabular.dataexpert.josephgabbrielle62095_departing_flight_silver\")\n",
    "display(depart_silver)\n",
    "depart_silver.printSchema()"
   ]
  },
  {
   "cell_type": "code",
   "execution_count": 0,
   "metadata": {
    "application/vnd.databricks.v1+cell": {
     "cellMetadata": {
      "byteLimit": 2048000,
      "rowLimit": 10000
     },
     "inputWidgets": {},
     "nuid": "3024ff68-4c8e-4126-bcb7-937b23ffe06e",
     "showTitle": false,
     "tableResultSettingsMap": {},
     "title": ""
    }
   },
   "outputs": [],
   "source": [
    "# PRE-DETERMINED COLUMNS LISTS\n",
    "depart_columns = [\"airline_iata\", \"airline_name\", \"arrival_city\", \"arrival_country\", \"arrival_iata\", \"arrival_international\", \"arrival_latitude\", \"arrival_longitude\", \"departure_actual\", \"departure_delay\", \"departure_estimated\", \"departure_estimated_runway\", \"departure_iata\", \"departure_scheduled\", \"flight_date\", \"flight_iata\", \"flight_status\", \"uploaded_timestamp\"]\n",
    "\n",
    "# ENSURE EVERY COLUMN EXISTS\n",
    "for i in depart_columns:\n",
    "    if i in depart_silver.columns:\n",
    "        print(f\"Column '{i}' exists in DataFrame\")\n",
    "    else:\n",
    "        raise ValueError(f\"Missing column: {i}\")\n",
    "\n",
    "# CHECK THAT THE DATA ISN'T EMPTY\n",
    "if depart_silver.count() > 1:\n",
    "    print(\"Data found\")\n",
    "else:\n",
    "    raise ValueError(\"There is no data!\")\n",
    "\n",
    "# CHECK THAT CERTAIN COLUMNS DON'T HAVE NULLS\n",
    "if depart_silver.filter(col(\"airline_iata\").isNull()).limit(1).count() > 0:\n",
    "    raise ValueError(\"There is a null in the airline_iata column!\")\n",
    "elif depart_silver.filter(col(\"airline_name\").isNull()).limit(1).count() > 0:\n",
    "    raise ValueError(\"There is a null in the airline_name column!\")\n",
    "elif depart_silver.filter(col(\"arrival_iata\").isNull()).limit(1).count() > 0:\n",
    "    raise ValueError(\"There is a null in the arrival_iata column!\")\n",
    "elif depart_silver.filter(col(\"departure_iata\").isNull()).limit(1).count() > 0:\n",
    "    raise ValueError(\"There is a null in the departure_iata column!\")\n",
    "elif depart_silver.filter(col(\"departure_scheduled\").isNull()).limit(1).count() > 0:\n",
    "    raise ValueError(\"There is a null in the departure_scheduled column!\")\n",
    "elif depart_silver.filter(col(\"flight_iata\").isNull()).limit(1).count() > 0:  \n",
    "    raise ValueError(\"There is a null in the flight_iata column!\")\n",
    "elif depart_silver.filter(col(\"flight_date\").isNull()).limit(1).count() > 0:  \n",
    "    raise ValueError(\"There is a null in the flight_date column!\")\n",
    "elif depart_silver.filter(col(\"flight_status\").isNull()).limit(1).count() > 0: \n",
    "    raise ValueError(\"There is a null in the flight_status column!\")\n",
    "else:\n",
    "    print(\"No nulls found in the dataset\")"
   ]
  },
  {
   "cell_type": "markdown",
   "metadata": {
    "application/vnd.databricks.v1+cell": {
     "cellMetadata": {
      "byteLimit": 2048000,
      "rowLimit": 10000
     },
     "inputWidgets": {},
     "nuid": "6ac584b7-1c3f-4434-ab0f-004a9fee04d9",
     "showTitle": false,
     "tableResultSettingsMap": {},
     "title": ""
    }
   },
   "source": [
    "## DEPARTURE GOLD TABLES\n",
    "IF THE DATA PASSES THE UNIT TESTS, THEN THE DATA CAN BE WRITTEN INTO THE GOLD TABLE."
   ]
  },
  {
   "cell_type": "code",
   "execution_count": 0,
   "metadata": {
    "application/vnd.databricks.v1+cell": {
     "cellMetadata": {
      "byteLimit": 2048000,
      "rowLimit": 10000
     },
     "inputWidgets": {},
     "nuid": "5fd75047-3da4-4c28-ad1e-802f2370398c",
     "showTitle": false,
     "tableResultSettingsMap": {},
     "title": ""
    }
   },
   "outputs": [],
   "source": [
    "#  WRITE TO DATABASE IF PASS CHECKS FROM ABOVE\n",
    "depart_silver.write.mode(\"overwrite\").saveAsTable(\"tabular.dataexpert.josephgabbrielle62095_departing_flight_gold\")\n",
    "\n",
    "depart_gold = spark.sql(\"SELECT * FROM tabular.dataexpert.josephgabbrielle62095_departing_flight_gold\")\n",
    "display(depart_gold)"
   ]
  },
  {
   "cell_type": "markdown",
   "metadata": {
    "application/vnd.databricks.v1+cell": {
     "cellMetadata": {
      "byteLimit": 2048000,
      "rowLimit": 10000
     },
     "inputWidgets": {},
     "nuid": "5028aa3d-bb0c-42b4-a194-6e6abfcc5a90",
     "showTitle": false,
     "tableResultSettingsMap": {},
     "title": ""
    }
   },
   "source": [
    "# ARRIVAL DATA\n",
    "## USE AVIATION STACK API TO GET DFW AIRPORT ARRIVAL DATA"
   ]
  },
  {
   "cell_type": "code",
   "execution_count": 0,
   "metadata": {
    "application/vnd.databricks.v1+cell": {
     "cellMetadata": {
      "byteLimit": 2048000,
      "rowLimit": 10000
     },
     "inputWidgets": {},
     "nuid": "d0d7f194-1d4b-40d4-9a8e-d6a75f508701",
     "showTitle": false,
     "tableResultSettingsMap": {},
     "title": ""
    }
   },
   "outputs": [],
   "source": [
    "# LIST OF AIRLINES TO USE\n",
    "airline_iata_codes = [\"AA\", \"AC\", \"AF\", \"AM\", \"AS\", \"B6\", \"BA\", \"DL\", \"EK\", \"F9\", \"IB\", \"KL\", \"LH\", \"LX\", \"NK\", \"QR\", \"SQ\", \"TK\", \"UA\", \"WS\"]  \n",
    "\n",
    "def flatten_flight(flight):\n",
    "    \"\"\"\n",
    "    Flattens nested 'departure', 'arrival', 'airline', 'flight', 'aircraft', and 'live' dictionaries.\n",
    "    \"\"\"\n",
    "    flattened = {\n",
    "        \"flight_date\": flight.get(\"flight_date\", \"\"),  # KEEP FLIGHT_DATE AS IS\n",
    "        \"flight_status\": flight.get(\"flight_status\", \"\"),  # KEEP FLIGHT_STATUS AS IS\n",
    "    }\n",
    "\n",
    "    for key, value in flight.items():\n",
    "        if key in [\"departure\", \"arrival\", \"airline\", \"flight\", \"aircraft\", \"live\"] and isinstance(value, dict):\n",
    "            for inner_key, inner_val in value.items():\n",
    "                if inner_key == \"codeshared\" and isinstance(inner_val, dict):\n",
    "                    for cs_key, cs_val in inner_val.items():\n",
    "                        flattened[f\"flight_codeshared_{cs_key}\"] = str(cs_val) if cs_val is not None else \"\"\n",
    "                else:\n",
    "                    flattened[f\"{key}_{inner_key}\"] = str(inner_val) if inner_val is not None else \"\"\n",
    "\n",
    "        elif key not in [\"flight_date\", \"flight_status\"]:  \n",
    "            flattened[key] = str(value) if value is not None else \"\"\n",
    "\n",
    "    return flattened\n",
    "\n",
    "# LIST TO STORE FLIGHT DATA\n",
    "all_flights_data = []\n",
    "\n",
    "# LOOP OVER EACH AIRLINE AND FETCH FLIGHT DATA\n",
    "for airline in airline_iata_codes:\n",
    "    params = {\n",
    "        \"access_key\": API_KEY,\n",
    "        \"arr_iata\": \"DFW\",  # FETCH ARRIVAL DATA FOR DFW\n",
    "        \"airline_iata\": airline,  # FILTER FOR A SELECTED AIRLINE\n",
    "    }\n",
    "\n",
    "    response = requests.get(BASE_URL, params=params)\n",
    "\n",
    "    if response.status_code == 200:\n",
    "        data = response.json().get(\"data\", [])\n",
    "        \n",
    "        if data:\n",
    "            flattened_data = [flatten_flight(flight) for flight in data]\n",
    "            all_flights_data.extend(flattened_data)\n",
    "        else:\n",
    "            print(f\"No flight data available for airline {airline}.\")\n",
    "    else:\n",
    "        print(f\"Error fetching data for airline {airline}: {response.status_code}, {response.text}\")\n",
    "\n",
    "# CONVERT TO PYSPARK\n",
    "if all_flights_data:\n",
    "    arr_flights_df = spark.createDataFrame(all_flights_data)\n",
    "    arr_flights_df = arr_flights_df.withColumn(\"uploaded_timestamp\", current_timestamp())\n",
    "\n",
    "    # WRITE DATA TO CSV FILES\n",
    "    arr_flights_df.write.csv(f\"/Volumes/tabular/dataexpert/josephgabbrielle62095/capstone_flight/arriving_flight_csv/arr_data_{uuid.uuid4()}.csv\", header=True)\n",
    "\n",
    "    print(\"Data successfully written to csv.\")\n",
    "else:\n",
    "    print(\"No flight data available for the selected airlines.\")"
   ]
  },
  {
   "cell_type": "markdown",
   "metadata": {
    "application/vnd.databricks.v1+cell": {
     "cellMetadata": {},
     "inputWidgets": {},
     "nuid": "33ab6e02-1bff-4a67-ba5b-0530d433cbe6",
     "showTitle": false,
     "tableResultSettingsMap": {},
     "title": ""
    }
   },
   "source": [
    "## LET'S CLEAN THE ARRIVAL BRONZE DATA\n",
    "TO GET THE DFW ARRIVAL DATA INTO A USEABLE FORMAT, THE DATA MUST BE IMPROVED BY CHANGING THE DATA TYPES AND THE COLUMN NAMES. THIS STEP WILL EXCLUDE ANY UNNEEDED DATA."
   ]
  },
  {
   "cell_type": "code",
   "execution_count": 0,
   "metadata": {
    "application/vnd.databricks.v1+cell": {
     "cellMetadata": {
      "byteLimit": 2048000,
      "rowLimit": 10000
     },
     "inputWidgets": {},
     "nuid": "122b0ad1-31cd-4716-9132-6103f6f20eaa",
     "showTitle": false,
     "tableResultSettingsMap": {},
     "title": ""
    }
   },
   "outputs": [],
   "source": [
    "arrival_bronze = spark.sql(\"SELECT * FROM tabular.dataexpert.josephgabbrielle62095_arriving_flight_bronze\")\n",
    "display(arrival_bronze)\n",
    "arrival_bronze.printSchema()"
   ]
  },
  {
   "cell_type": "code",
   "execution_count": 0,
   "metadata": {
    "application/vnd.databricks.v1+cell": {
     "cellMetadata": {
      "byteLimit": 2048000,
      "rowLimit": 10000
     },
     "inputWidgets": {},
     "nuid": "4150c3f4-332c-4e3b-b2bb-cde88ab5d762",
     "showTitle": false,
     "tableResultSettingsMap": {},
     "title": ""
    }
   },
   "outputs": [],
   "source": [
    "# CHOOSE THE COLUMNS TO KEEP\n",
    "arrival_bronze = arrival_bronze.select(\n",
    "    \"airline_iata\",\n",
    "    \"airline_name\",\n",
    "    \"arrival_actual\",\n",
    "    \"arrival_actual_runway\",\n",
    "    \"arrival_baggage\",\n",
    "    \"arrival_delay\",\n",
    "    \"arrival_estimated\",\n",
    "    \"arrival_estimated_runway\",\n",
    "    \"arrival_gate\",\n",
    "    \"arrival_iata\",\n",
    "    \"arrival_scheduled\",\n",
    "    \"departure_actual\",\n",
    "    \"departure_delay\",\n",
    "    \"departure_estimated\",\n",
    "    \"departure_estimated_runway\",\n",
    "    \"departure_iata\",\n",
    "    \"departure_scheduled\",\n",
    "    \"flight_iata\",\n",
    "    \"flight_date\",\n",
    "    \"flight_number\",\n",
    "    \"flight_status\",\n",
    "    \"uploaded_timestamp\"\n",
    "    )\n",
    "\n",
    "# JOIN THE TABLE WITH THE AIRPORT LOCATION TABLE\n",
    "arrival_geocode = arrival_bronze \\\n",
    "                .join(broadcast(airport_geocode), arrival_bronze.departure_iata == airport_geocode.iata, \"left\") \\\n",
    "                .select(\n",
    "                    arrival_bronze['*'], \n",
    "                    airport_geocode['city'].alias('depart_city'),\n",
    "                    airport_geocode['country'].alias('depart_country'),\n",
    "                    airport_geocode['latitude_decimal_degrees'].alias('depart_latitude'),\n",
    "                    airport_geocode['longitude_decimal_degrees'].alias('depart_longitude')\n",
    "                ) \n",
    "\n",
    "# CREATE FLAG FOR INTERNATIONAL FLIGHT\n",
    "arrival_geocode = arrival_geocode.withColumn(\"depart_international\", when(col(\"depart_country\") == \"USA\", \"N\").otherwise(\"Y\"))\n",
    "\n",
    "# DEFINE COLUMNS AND THEIR TYPES\n",
    "type_conversions = {\n",
    "    \"flight_date\": DateType(),\n",
    "    \"arrival_actual\": TimestampType(),\n",
    "    \"arrival_actual_runway\": TimestampType(),\n",
    "    \"arrival_delay\": IntegerType(),\n",
    "    \"arrival_estimated\": TimestampType(),\n",
    "    \"arrival_estimated_runway\": TimestampType(),\n",
    "    \"arrival_scheduled\": TimestampType(),\n",
    "    \"departure_actual\": TimestampType(),\n",
    "    \"departure_delay\": IntegerType(),\n",
    "    \"departure_estimated\": TimestampType(),\n",
    "    \"departure_estimated_runway\": TimestampType(),\n",
    "    \"departure_scheduled\": TimestampType(),\n",
    "    \"uploaded_timestamp\": TimestampType()\n",
    "}\n",
    "\n",
    "# APPLY TYPES\n",
    "for col_name, new_type in type_conversions.items():\n",
    "    arrival_geocode = arrival_geocode.withColumn(col_name, col(col_name).cast(new_type))\n",
    "\n",
    "# EDIT FLIGHT_STATUS FOR SPECIFICITY\n",
    "arrival_geocode = arrival_geocode.withColumn(\n",
    "    \"flight_status\",\n",
    "    when(col(\"flight_status\") == \"landed\", \"LANDED\")\n",
    "    .when(col(\"arrival_delay\") > 0, \"DELAYED\")\n",
    "    .when(col(\"departure_delay\") > 0, \"DEPART DELAYED\")\n",
    "    .when((col(\"flight_status\") == \"scheduled\") & (col(\"departure_delay\") > 0), \"DELAYED\")\n",
    "    .when((col(\"departure_delay\").isNotNull()) & (col(\"departure_delay\") > 0), \"ENROUTE DELAYED\")\n",
    "    .when(col(\"flight_status\") == \"scheduled\", \"ON TIME\")\n",
    "    .otherwise(upper(col(\"flight_status\")))\n",
    ")\n",
    "\n",
    "# EDIT ARRIVAL BAGGAGE TO SHOW NA IF NONE WAS ASSIGNED\n",
    "arrival_geocode = arrival_geocode.withColumn(\n",
    "    \"arrival_baggage\",\n",
    "    when(col(\"arrival_baggage\").isNull(), \"UNASSIGNED\")\n",
    "    .otherwise(arrival_geocode.arrival_baggage)\n",
    ")\n",
    "\n",
    "# EDIT ARRIVAL GATE TO SHOW NA IF NONE WAS ASSIGNED\n",
    "arrival_geocode = arrival_geocode.withColumn(\n",
    "    \"arrival_gate\",\n",
    "    when(col(\"arrival_gate\").isNull(), \"UNASSIGNED\")\n",
    "    .otherwise(arrival_geocode.arrival_gate)\n",
    ")\n",
    "\n",
    "# DROP COLUMN\n",
    "arrival_geocode = arrival_geocode.drop('departure_delay')\n",
    "\n",
    "# UPPERCASE AIRLINE NAME\n",
    "arrival_geocode = arrival_geocode.withColumn(\"airline_name\", upper(col(\"airline_name\")))\n",
    "\n",
    "# SORT COLUMNS\n",
    "sorted_columns = sorted(arrival_geocode.columns)\n",
    "\n",
    "# REORDER DATAFRAME\n",
    "arrival_geocode = arrival_geocode.select(sorted_columns)\n",
    "\n",
    "display(arrival_geocode)\n",
    "\n",
    "# WRITE THE DATA TO THE SILVER TABLE\n",
    "arrival_geocode.write.mode(\"overwrite\").saveAsTable(\"tabular.dataexpert.josephgabbrielle62095_arrival_flight_silver\")"
   ]
  },
  {
   "cell_type": "markdown",
   "metadata": {
    "application/vnd.databricks.v1+cell": {
     "cellMetadata": {
      "byteLimit": 2048000,
      "rowLimit": 10000
     },
     "inputWidgets": {},
     "nuid": "db04c511-04b9-4abb-9e6e-2635ea70b851",
     "showTitle": false,
     "tableResultSettingsMap": {},
     "title": ""
    }
   },
   "source": [
    "## LET'S PERFORM THE UNIT TESTS\n",
    "BY PERFORMING UNIT TESTS, END USERS CAN BE SURE OF THE QUALITY OF THE DATA. THIS WILL AVOID PUTTING INCORRECT OR MISSING DATA INTO PRODUCTION. API OWNERS FREQUENTLY CHANGE THE DATA SCHEMA OR DATA TYPE. THIS WILL FIND ANY CHANGES THAT WILL AFFECT PRODUCTION DATA."
   ]
  },
  {
   "cell_type": "code",
   "execution_count": 0,
   "metadata": {
    "application/vnd.databricks.v1+cell": {
     "cellMetadata": {
      "byteLimit": 2048000,
      "rowLimit": 10000
     },
     "inputWidgets": {},
     "nuid": "8548b2e6-5918-4c9b-a758-194814f2f530",
     "showTitle": false,
     "tableResultSettingsMap": {},
     "title": ""
    }
   },
   "outputs": [],
   "source": [
    "# QUERY THE SILVER TABLE\n",
    "arrival_silver = spark.sql(\"SELECT * FROM tabular.dataexpert.josephgabbrielle62095_arrival_flight_silver\")\n",
    "display(arrival_silver)\n",
    "arrival_silver.printSchema()"
   ]
  },
  {
   "cell_type": "code",
   "execution_count": 0,
   "metadata": {
    "application/vnd.databricks.v1+cell": {
     "cellMetadata": {
      "byteLimit": 2048000,
      "rowLimit": 10000
     },
     "inputWidgets": {},
     "nuid": "6ae635ce-31a4-4aba-ae7b-13cb2f150c76",
     "showTitle": false,
     "tableResultSettingsMap": {},
     "title": ""
    }
   },
   "outputs": [],
   "source": [
    "# PRE-DETERMINED COLUMNS\n",
    "arrival_columns = [\"airline_iata\", \"airline_name\", \"arrival_actual\", \"arrival_actual_runway\", \"arrival_baggage\", \"arrival_delay\", \"arrival_estimated\", \"arrival_estimated_runway\", \"arrival_gate\", \"arrival_iata\", \"arrival_scheduled\", \"depart_city\", \"depart_country\", \"depart_international\", \"depart_latitude\", \"depart_longitude\", \"departure_actual\", \"departure_estimated\", \"departure_estimated_runway\", \"departure_iata\", \"departure_scheduled\", \"flight_date\", \"flight_iata\", \"flight_number\", \"flight_status\", \"uploaded_timestamp\"]\n",
    "\n",
    "# CHECK THAT EVERY COLUMN IS THERE\n",
    "for i in arrival_columns:\n",
    "    if i in arrival_silver.columns:\n",
    "        print(f\"Column '{i}' exists in DataFrame\")\n",
    "    else:\n",
    "        raise ValueError(f\"Missing column: {i}\")\n",
    "\n",
    "# CHECK THE DATA ISN'T EMPTY\n",
    "if arrival_silver.count() > 1:\n",
    "    print(\"Data found\")\n",
    "else:\n",
    "    raise ValueError(\"There is no data!\")\n",
    "\n",
    "# COLUMNS THAT SHOULDN'T BE NULL\n",
    "columns_to_check = [\n",
    "    \"airline_name\", \"arrival_estimated\", \"arrival_iata\",\n",
    "    \"arrival_scheduled\", \"departure_estimated\", \"departure_iata\", \n",
    "    \"departure_scheduled\", \"flight_date\", \"flight_number\", \"flight_status\"\n",
    "]\n",
    "\n",
    "# LOOP THROUGH THE COLUMNS TO CHECK FOR NULL DATA\n",
    "for col_name in columns_to_check:\n",
    "    if arrival_silver.filter(col(col_name).isNull()).limit(1).count() > 0:\n",
    "        raise ValueError(f\"There is a null in the {col_name} column!\")\n",
    "\n",
    "print(\"No nulls found in the dataset\")\n",
    "\n",
    "display(arrival_silver)"
   ]
  },
  {
   "cell_type": "markdown",
   "metadata": {
    "application/vnd.databricks.v1+cell": {
     "cellMetadata": {
      "byteLimit": 2048000,
      "rowLimit": 10000
     },
     "inputWidgets": {},
     "nuid": "1a75f5ec-a2db-4120-9eb8-ad758d57de53",
     "showTitle": false,
     "tableResultSettingsMap": {},
     "title": ""
    }
   },
   "source": [
    "## DEPARTURE GOLD TABLES\n",
    "IF THE DATA PASSES THE UNIT TESTS, THEN THE DATA CAN BE WRITTEN INTO THE GOLD TABLE."
   ]
  },
  {
   "cell_type": "code",
   "execution_count": 0,
   "metadata": {
    "application/vnd.databricks.v1+cell": {
     "cellMetadata": {
      "byteLimit": 2048000,
      "rowLimit": 10000
     },
     "inputWidgets": {},
     "nuid": "1a037afd-de64-4b99-9680-a7c5610fccf8",
     "showTitle": false,
     "tableResultSettingsMap": {},
     "title": ""
    }
   },
   "outputs": [],
   "source": [
    "# WRITE TO GOLD TABLES IS PASS ABOVE\n",
    "arrival_silver.write.mode(\"overwrite\").saveAsTable(\"tabular.dataexpert.josephgabbrielle62095_arrival_flight_gold\")"
   ]
  }
 ],
 "metadata": {
  "application/vnd.databricks.v1+notebook": {
   "computePreferences": null,
   "dashboards": [],
   "environmentMetadata": {
    "base_environment": "",
    "environment_version": "2"
   },
   "language": "python",
   "notebookMetadata": {
    "mostRecentlyExecutedCommandWithImplicitDF": {
     "commandId": 7347010317475037,
     "dataframes": [
      "_sqldf"
     ]
    },
    "pythonIndentUnit": 4
   },
   "notebookName": "aviation_streaming",
   "widgets": {}
  },
  "language_info": {
   "name": "python"
  }
 },
 "nbformat": 4,
 "nbformat_minor": 0
}
